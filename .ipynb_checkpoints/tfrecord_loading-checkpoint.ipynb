{
 "cells": [
  {
   "cell_type": "raw",
   "metadata": {},
   "source": [
    "An example of TFRecord data loading and preprocessing.\n",
    "    - Creates threads to read TFRecord files from disk, decode and preprocess.\n",
    "    - Loads a batch of samples,\n",
    "    - Saves a frame from the first sample."
   ]
  },
  {
   "cell_type": "code",
   "execution_count": 3,
   "metadata": {
    "collapsed": true
   },
   "outputs": [],
   "source": [
    "import tensorflow as tf\n",
    "import numpy as np\n",
    "import os\n",
    "%matplotlib inline\n",
    "import matplotlib.pyplot as plt"
   ]
  },
  {
   "cell_type": "code",
   "execution_count": 4,
   "metadata": {
    "collapsed": true
   },
   "outputs": [],
   "source": [
    "def preprocessing_op(image_op, config):\n",
    "    \"\"\"\n",
    "    Creates preprocessing operations that are going to be applied on a single frame.\n",
    "    \n",
    "    TODO: Customize for your needs.\n",
    "    You can do any preprocessing (masking, normalization/scaling of inputs, augmentation, etc.) by using tensorflow operations.\n",
    "    Built-in image operations: https://www.tensorflow.org/api_docs/python/tf/image \n",
    "    \"\"\"\n",
    "    with tf.name_scope(\"preprocessing\"):\n",
    "        # Reshape serialized image.\n",
    "        image_op = tf.reshape(image_op, (config['img_height'], \n",
    "                               config['img_width'], \n",
    "                               config['img_num_channels'])\n",
    "                          )\n",
    "        # Integer to float.\n",
    "        image_op = tf.to_float(image_op)\n",
    "        \n",
    "        # Normalize (zero-mean unit-variance) the image locally, i.e., by using statistics of the \n",
    "        # image not the whole data or sequence. \n",
    "        image_op = tf.image.per_image_standardization(image_op)\n",
    "    \n",
    "        return image_op\n",
    "\n",
    "def read_and_decode_sequence(filename_queue, config):\n",
    "    # Create a TFRecordReader.\n",
    "    readerOptions = tf.python_io.TFRecordOptions(compression_type=tf.python_io.TFRecordCompressionType.GZIP)\n",
    "    reader = tf.TFRecordReader(options=readerOptions)\n",
    "    _, serialized_example = reader.read(filename_queue)\n",
    "    \n",
    "    # Read one sequence sample.\n",
    "    # The training and validation files contains the following fields:\n",
    "    # - label: label of the sequence which take values between 1 and 20.\n",
    "    # - length: length of the sequence, i.e., number of frames.\n",
    "    # - depth: sequence of depth images. [length x height x width x numChannels]\n",
    "    # - rgb: sequence of rgb images. [length x height x width x numChannels]\n",
    "    # - segmentation: sequence of segmentation maskes. [length x height x width x numChannels]\n",
    "    # - skeleton: sequence of flattened skeleton joint positions. [length x numJoints]\n",
    "    #\n",
    "    # The test files doesn't contain \"label\" field.\n",
    "    # [height, width, numChannels] = [80, 80, 3]\n",
    "    with tf.name_scope(\"TFRecordDecoding\"):\n",
    "        context_encoded, sequence_encoded = tf.parse_single_sequence_example(\n",
    "                serialized_example,\n",
    "                # \"label\" and \"lenght\" are encoded as context features. \n",
    "                context_features={\n",
    "                    \"label\": tf.FixedLenFeature([], dtype=tf.int64),\n",
    "                    \"length\": tf.FixedLenFeature([], dtype=tf.int64)\n",
    "                },\n",
    "                # \"depth\", \"rgb\", \"segmentation\", \"skeleton\" are encoded as sequence features.\n",
    "                sequence_features={\n",
    "                    \"depth\": tf.FixedLenSequenceFeature([], dtype=tf.string),\n",
    "                    \"rgb\": tf.FixedLenSequenceFeature([], dtype=tf.string),\n",
    "                    \"segmentation\": tf.FixedLenSequenceFeature([], dtype=tf.string),\n",
    "                    \"skeleton\": tf.FixedLenSequenceFeature([], dtype=tf.string),\n",
    "                })\n",
    "\n",
    "        # Fetch required data fields. \n",
    "        # TODO: Customize for your design. Assume that only the RGB images are used for now.\n",
    "        # Decode the serialized RGB images.    \n",
    "        seq_rgb = tf.decode_raw(sequence_encoded['rgb'], tf.uint8)\n",
    "        seq_label = context_encoded['label']\n",
    "        seq_len = context_encoded['length']\n",
    "        # Output dimnesionality: [seq_len, height, width, numChannels]\n",
    "        # tf.map_fn applies the preprocessing function on every image in the sequence, i.e., frame.\n",
    "        seq_rgb = tf.map_fn(lambda x: preprocessing_op(x, config),\n",
    "                                elems=seq_rgb,\n",
    "                                dtype=tf.float32,\n",
    "                                back_prop=False)\n",
    "    \n",
    "        return [seq_rgb, seq_label, seq_len]\n",
    "    \n",
    "\n",
    "def input_pipeline(filenames, config):\n",
    "    with tf.name_scope(\"input_pipeline\"):\n",
    "        # Create a queue of TFRecord input files.\n",
    "        filename_queue = tf.train.string_input_producer(filenames, num_epochs=config['num_epochs'], shuffle=True)\n",
    "        # Read the data from TFRecord files, decode and create a list of data samples by using threads.\n",
    "        sample_list = [read_and_decode_sequence(filename_queue, config) for _ in range(config['ip_num_read_threads'])]\n",
    "        # Create batches.\n",
    "        # Since the data consists of variable-length sequences, allow padding by setting dynamic_pad parameter.\n",
    "        # \"batch_join\" creates batches of samples and pads the sequences w.r.t the max-length sequence in the batch.\n",
    "        # Hence, the padded sequence length can be different for different batches.\n",
    "        batch_rgb, batch_labels, batch_lens = tf.train.batch_join(sample_list,\n",
    "                                                    batch_size=config['batch_size'],\n",
    "                                                    capacity=config['ip_queue_capacity'],\n",
    "                                                    enqueue_many=False,\n",
    "                                                    dynamic_pad=True,\n",
    "                                                    name=\"batch_join_and_pad\")\n",
    "\n",
    "        return batch_rgb, batch_labels, batch_lens"
   ]
  },
  {
   "cell_type": "code",
   "execution_count": 5,
   "metadata": {},
   "outputs": [
    {
     "data": {
      "text/plain": [
       "\"\\n# Training Loop\\n# The input pipeline creates input batches for config['num_epochs'] epochs,\\n# You can iterate over the training data by using coord.should_stop() signal.\\ntry:\\n    while not coord.should_stop():\\n        # TODO: Model training\\n        \\nexcept tf.errors.OutOfRangeError:\\n    print('Done training for %d epochs, %d steps.' % (FLAGS.num_epochs, step))\\nfinally:\\n    # When done, ask the threads to stop.\\n    coord.request_stop()\\n\\n# Wait for threads to finish.\\ncoord.join(threads)\\n# Close session\\nsess.close()\\n\""
      ]
     },
     "execution_count": 5,
     "metadata": {},
     "output_type": "execute_result"
    }
   ],
   "source": [
    "'''\n",
    "A simple test routine:\n",
    "'''\n",
    "config = {}\n",
    "config['img_height'] = 80\n",
    "config['img_width'] = 80\n",
    "config['img_num_channels'] = 3\n",
    "config['num_epochs'] = 10\n",
    "config['batch_size'] = 16\n",
    "# Capacity of the queue which contains the samples read by data readers.\n",
    "# Make sure that it has enough capacity.\n",
    "config['ip_queue_capacity'] = config['batch_size']*10  \n",
    "config['ip_num_read_threads'] = 6\n",
    "# Directory of the data.\n",
    "config['data_dir'] = \"./train/\"\n",
    "# File naming\n",
    "config['file_format'] = \"dataTrain_%d.tfrecords\"\n",
    "# File IDs to be used for training.\n",
    "config['file_ids'] = list(range(1,10))\n",
    "\n",
    "# Create a list of TFRecord input files.\n",
    "filenames = [os.path.join(config['data_dir'], config['file_format'] % i) for i in config['file_ids']]\n",
    "\n",
    "# Create data loading operators. This will be represented as a node in the computational graph.\n",
    "batch_samples_op, batch_labels_op, batch_seq_len_op = input_pipeline(filenames, config)\n",
    "# TODO: batch_samples_op, batch_labels_op and batch_seq_len_op are like input placeholders. You can directly \n",
    "# feed them to your model.\n",
    "\n",
    "# Create tensorflow session and initialize the variables (if any).\n",
    "sess = tf.Session()\n",
    "init_op = tf.group(tf.global_variables_initializer(),tf.local_variables_initializer())\n",
    "sess.run(init_op)\n",
    "# Create threads to prefetch the data.\n",
    "# https://www.tensorflow.org/programmers_guide/reading_data#creating_threads_to_prefetch_using_queuerunner_objects\n",
    "coord = tf.train.Coordinator()\n",
    "threads = tf.train.start_queue_runners(sess=sess, coord=coord)\n",
    "\n",
    "\"\"\"\n",
    "# Training Loop\n",
    "# The input pipeline creates input batches for config['num_epochs'] epochs,\n",
    "# You can iterate over the training data by using coord.should_stop() signal.\n",
    "try:\n",
    "    while not coord.should_stop():\n",
    "        # TODO: Model training\n",
    "        \n",
    "except tf.errors.OutOfRangeError:\n",
    "    print('Done training for %d epochs, %d steps.' % (FLAGS.num_epochs, step))\n",
    "finally:\n",
    "    # When done, ask the threads to stop.\n",
    "    coord.request_stop()\n",
    "\n",
    "# Wait for threads to finish.\n",
    "coord.join(threads)\n",
    "# Close session\n",
    "sess.close()\n",
    "\"\"\""
   ]
  },
  {
   "cell_type": "code",
   "execution_count": 6,
   "metadata": {
    "collapsed": true
   },
   "outputs": [],
   "source": [
    "# Fetch a batch of samples.\n",
    "batch_samples, batch_labels, batch_seq_len = sess.run([batch_samples_op, batch_labels_op, batch_seq_len_op])"
   ]
  },
  {
   "cell_type": "code",
   "execution_count": 7,
   "metadata": {},
   "outputs": [
    {
     "name": "stdout",
     "output_type": "stream",
     "text": [
      "# Samples: 16\n",
      "Sequence lengths: [60 62 62 88 82 57 71 84 63 73 59 63 61 76 81 73]\n",
      "Sequence labels: [20 18 13 12 19 20  5 12 14  5 11 15  2 15 17 19]\n",
      "Sequence type: <class 'numpy.ndarray'>\n",
      "Sequence shape: (16, 88, 80, 80, 3)\n",
      "Image shape: (80, 80, 3)\n"
     ]
    },
    {
     "data": {
      "text/plain": [
       "<matplotlib.image.AxesImage at 0x23bcbd44eb8>"
      ]
     },
     "execution_count": 7,
     "metadata": {},
     "output_type": "execute_result"
    },
    {
     "data": {
      "image/png": "[encoded data removed]",
      "text/plain": [
       "<matplotlib.figure.Figure at 0x23bcbd44940>"
      ]
     },
     "metadata": {},
     "output_type": "display_data"
    }
   ],
   "source": [
    "# Print \n",
    "print(\"# Samples: \" + str(len(batch_samples)))\n",
    "print(\"Sequence lengths: \" + str(batch_seq_len))\n",
    "print(\"Sequence labels: \" + str(batch_labels))\n",
    "\n",
    "# Note that the second dimension will give maximum-length in the batch, i.e., the padded sequence length.\n",
    "print(\"Sequence type: \" + str(type(batch_samples)))\n",
    "print(\"Sequence shape: \" + str(batch_samples.shape))\n",
    "\n",
    "# Fetch first clips 11th frame.\n",
    "img = batch_samples[0][10]\n",
    "print(\"Image shape: \" + str(img.shape))\n",
    "\n",
    "plt.figure()\n",
    "plt.axis(\"off\")\n",
    "plt.imshow(img) # Note that image may look wierd because it is normalized."
   ]
  },
  {
   "cell_type": "code",
   "execution_count": null,
   "metadata": {
    "collapsed": true
   },
   "outputs": [],
   "source": []
  }
 ],
 "metadata": {
  "kernelspec": {
   "display_name": "Python 3",
   "language": "python",
   "name": "python3"
  },
  "language_info": {
   "codemirror_mode": {
    "name": "ipython",
    "version": 3
   },
   "file_extension": ".py",
   "mimetype": "text/x-python",
   "name": "python",
   "nbconvert_exporter": "python",
   "pygments_lexer": "ipython3",
   "version": "3.5.3"
  }
 },
 "nbformat": 4,
 "nbformat_minor": 2
}
